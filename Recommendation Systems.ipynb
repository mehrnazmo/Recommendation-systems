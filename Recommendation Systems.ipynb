{
 "cells": [
  {
   "cell_type": "markdown",
   "metadata": {},
   "source": [
    "# <font color=hotpink> Review Materials </font> "
   ]
  },
  {
   "cell_type": "markdown",
   "metadata": {},
   "source": [
    "## <font color=gold> Recommendation systems </font>"
   ]
  },
  {
   "cell_type": "markdown",
   "metadata": {},
   "source": [
    "## Make pivot table from dataframe"
   ]
  },
  {
   "cell_type": "markdown",
   "metadata": {},
   "source": [
    "## Show data in browser"
   ]
  },
  {
   "cell_type": "code",
   "execution_count": 5,
   "metadata": {},
   "outputs": [
    {
     "data": {
      "text/plain": [
       "True"
      ]
     },
     "execution_count": 5,
     "metadata": {},
     "output_type": "execute_result"
    }
   ],
   "source": [
    "import pandas as pd\n",
    "import numpy as np\n",
    "import os\n",
    "import webbrowser\n",
    "\n",
    "# Read the dataset into a data table using Pandas\n",
    "df = pd.read_csv(\"movie_ratings_data_set.csv\")\n",
    "\n",
    "# Convert the running list of user ratings into a matrix using the 'pivot table' function\n",
    "ratings_df = pd.pivot_table(df,index= 'user_id', columns='movie_id')\n",
    "\n",
    "# Create a web page view of the data for easy viewing\n",
    "html = ratings_df.to_html(na_rep=\"\")\n",
    "\n",
    "# Save the html to a temporary file\n",
    "with open(\"review_matrix.html\", \"w\") as f:\n",
    "    f.write(html)\n",
    "\n",
    "# Open the web page in our web browser\n",
    "full_filename = os.path.abspath(\"review_matrix.html\")\n",
    "webbrowser.open(\"file://{}\".format(full_filename))"
   ]
  },
  {
   "cell_type": "markdown",
   "metadata": {},
   "source": [
    "***\n",
    "***.as_matrix():** make sure that the data is passed as a numpy matrix"
   ]
  },
  {
   "cell_type": "markdown",
   "metadata": {},
   "source": [
    "***\n",
    "Save features and predicted ratings to files for later use\n",
    "<br><br>This helps to save large matrix U faster.\n",
    "<br><br><font color=green>pickle.dump(U, open(\"user_features.dat\", \"wb\"))"
   ]
  },
  {
   "cell_type": "markdown",
   "metadata": {},
   "source": [
    "***\n",
    "\n",
    "#### <font color=green>import pickle \n",
    "import pandas as pd </font>\n",
    "<br>\n",
    "Load prediction rules from data files\n",
    "<br>\n",
    "<font color=green>means = pickle.load(open(\"means.dat\", \"rb\"))</font>\n",
    "<br>\n",
    "The pickle feature is useful in running the recommendation on pre-saved model data ."
   ]
  },
  {
   "cell_type": "markdown",
   "metadata": {},
   "source": [
    "***\n",
    "**MovieLens DataSet**"
   ]
  },
  {
   "cell_type": "markdown",
   "metadata": {},
   "source": [
    "### Main Idea:\n",
    "First, convert the data into meaningful table using pd.read_csv and pd.pivot_table. \n",
    "<br> Then instead of finding features of each movie by yourself, do low_rank_matrix_factorization to automatically come up with features of movies. In other words, data = U * M. \n",
    "<br> Factor a ratings array into two latent feature arrays (user features and product features) as in the following:"
   ]
  },
  {
   "cell_type": "code",
   "execution_count": 7,
   "metadata": {},
   "outputs": [],
   "source": [
    "def low_rank_matrix_factorization(ratings, mask=None, num_features=15, regularization_amount=0.01):\n",
    "    \"\"\"\n",
    "    Factor a ratings array into two latent feature arrays (user features and product features)\n",
    "\n",
    "    :param ratings: Matrix with user ratings to factor\n",
    "    :param mask: A binary mask of which ratings are present in the ratings array to factor\n",
    "    :param num_features: Number of latent features to generate for users and products\n",
    "    :param regularization_amount: How much regularization to apply\n",
    "    :return: (P, Q) - the factored latent feature arrays\n",
    "    \"\"\""
   ]
  },
  {
   "cell_type": "markdown",
   "metadata": {},
   "source": [
    "This can be done by calculating U and M repeatedly using"
   ]
  },
  {
   "cell_type": "code",
   "execution_count": 8,
   "metadata": {},
   "outputs": [],
   "source": [
    "from scipy.optimize import fmin_cg"
   ]
  },
  {
   "cell_type": "markdown",
   "metadata": {},
   "source": [
    "which minimizes the error using gradient calculation. "
   ]
  },
  {
   "cell_type": "markdown",
   "metadata": {},
   "source": [
    "Then:\n",
    "<br>\n",
    "predicted_ratings = np.matmul(U, M)"
   ]
  },
  {
   "cell_type": "markdown",
   "metadata": {},
   "source": [
    "Then, for a certain user_ID, one can sort the predicted_ratings and suggest the top five rating for the user. "
   ]
  },
  {
   "cell_type": "markdown",
   "metadata": {},
   "source": [
    "***\n",
    "If a user doesn't have reviews so far, we can either:\n",
    "<br>\n",
    "Not suggest anything, or suggest the top rated movies, or suggest related movies."
   ]
  },
  {
   "cell_type": "markdown",
   "metadata": {},
   "source": [
    "Related movies are the ones with the most similar M matrix. Also, don't forget regularization."
   ]
  },
  {
   "cell_type": "code",
   "execution_count": null,
   "metadata": {},
   "outputs": [],
   "source": []
  }
 ],
 "metadata": {
  "kernelspec": {
   "display_name": "Python 3",
   "language": "python",
   "name": "python3"
  },
  "language_info": {
   "codemirror_mode": {
    "name": "ipython",
    "version": 3
   },
   "file_extension": ".py",
   "mimetype": "text/x-python",
   "name": "python",
   "nbconvert_exporter": "python",
   "pygments_lexer": "ipython3",
   "version": "3.7.3"
  }
 },
 "nbformat": 4,
 "nbformat_minor": 2
}
