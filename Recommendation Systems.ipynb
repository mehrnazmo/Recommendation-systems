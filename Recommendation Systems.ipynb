{
 "cells": [
  {
   "cell_type": "markdown",
   "metadata": {},
   "source": [
    "# <font color=hotpink> Review Materials </font> "
   ]
  },
  {
   "cell_type": "markdown",
   "metadata": {},
   "source": [
    "## <font color=gold> Recommendation systems </font>"
   ]
  },
  {
   "cell_type": "markdown",
   "metadata": {},
   "source": [
    "## Make pivot table from dataframe"
   ]
  },
  {
   "cell_type": "markdown",
   "metadata": {},
   "source": [
    "## Show data in browser"
   ]
  },
  {
   "cell_type": "code",
   "execution_count": 1,
   "metadata": {},
   "outputs": [
    {
     "data": {
      "text/plain": [
       "True"
      ]
     },
     "execution_count": 1,
     "metadata": {},
     "output_type": "execute_result"
    }
   ],
   "source": [
    "import pandas as pd\n",
    "import numpy as np\n",
    "import os\n",
    "import webbrowser\n",
    "\n",
    "# Read the dataset into a data table using Pandas\n",
    "df = pd.read_csv(\"movie_ratings_data_set.csv\")\n",
    "\n",
    "# Convert the running list of user ratings into a matrix using the 'pivot table' function\n",
    "ratings_df = pd.pivot_table(df,index= 'user_id', columns='movie_id')\n",
    "\n",
    "# Create a csv file of the data for easy viewing\n",
    "ratings_df.to_csv(\"review_matrix.csv\", na_rep=\"\")\n",
    "\n",
    "# Create a web page view of the data for easy viewing\n",
    "html = ratings_df.to_html(na_rep=\"\")\n",
    "\n",
    "# Save the html to a temporary file\n",
    "with open(\"review_matrix.html\", \"w\") as f:\n",
    "    f.write(html)\n",
    "\n",
    "# Open the web page in our web browser\n",
    "full_filename = os.path.abspath(\"review_matrix.html\")\n",
    "webbrowser.open(\"file://{}\".format(full_filename))"
   ]
  },
  {
   "cell_type": "markdown",
   "metadata": {},
   "source": [
    "# Create Review Matrix"
   ]
  },
  {
   "cell_type": "code",
   "execution_count": 2,
   "metadata": {},
   "outputs": [
    {
     "data": {
      "text/plain": [
       "True"
      ]
     },
     "execution_count": 2,
     "metadata": {},
     "output_type": "execute_result"
    }
   ],
   "source": [
    "# Read the dataset into a data table using Pandas\n",
    "data_table = pd.read_csv(\"movies.csv\", index_col=\"movie_id\")\n",
    "\n",
    "# Create a web page view of the data for easy viewing\n",
    "html = data_table.to_html()\n",
    "\n",
    "# Save the html to a temporary file\n",
    "with open(\"movie_list.html\", \"w\") as f:\n",
    "    f.write(html)\n",
    "\n",
    "# Open the web page in our web browser\n",
    "full_filename = os.path.abspath(\"movie_list.html\")\n",
    "webbrowser.open(\"file://{}\".format(full_filename))"
   ]
  },
  {
   "cell_type": "markdown",
   "metadata": {},
   "source": [
    "# Matrix Factorization Utilities"
   ]
  },
  {
   "cell_type": "code",
   "execution_count": 3,
   "metadata": {},
   "outputs": [],
   "source": [
    "from scipy.optimize import fmin_cg\n",
    "\n",
    "\n",
    "def normalize_ratings(ratings):\n",
    "    \"\"\"\n",
    "    Given an array of user ratings, subtract the mean of each product's ratings\n",
    "    :param ratings: 2d array of user ratings\n",
    "    :return: (normalized ratings array, the calculated means)\n",
    "    \"\"\"\n",
    "    mean_ratings = np.nanmean(ratings, axis=0)\n",
    "    return ratings - mean_ratings, mean_ratings\n",
    "\n",
    "\n",
    "def cost(X, *args):\n",
    "    \"\"\"\n",
    "    Cost function for low rank matrix factorization\n",
    "    :param X: The matrices being factored (P and Q) rolled up as a contiguous array\n",
    "    :param args: Array containing (num_users, num_products, num_features, \n",
    "                 \n",
    "                 ratings, mask, regularization_amount)\n",
    "    :return: The cost with the current P and Q matrices\n",
    "    \"\"\"\n",
    "    num_users, num_products, num_features, ratings, mask, regularization_amount = args\n",
    "\n",
    "    # Unroll P and Q\n",
    "    P = X[0:(num_users * num_features)].reshape(num_users, num_features)\n",
    "    Q = X[(num_users * num_features):].reshape(num_products, num_features)\n",
    "    Q = Q.T\n",
    "\n",
    "    # Calculate current cost\n",
    "    return (np.sum(np.square(mask * (np.dot(P, Q) - ratings))) / 2) \n",
    "    + ((regularization_amount / 2.0) * np.sum(np.square(Q.T)))\n",
    "    + ((regularization_amount / 2.0) * np.sum(np.square(P)))\n",
    "\n",
    "\n",
    "def gradient(X, *args):\n",
    "    \"\"\"\n",
    "    Calculate the cost gradients with the current P and Q.\n",
    "    :param X: The matrices being factored (P and Q) rolled up as a contiguous array\n",
    "    :param args: Array containing (num_users, num_products, num_features, \n",
    "                 ratings, mask, regularization_amount)\n",
    "    :return: The gradient with the current X\n",
    "    \"\"\"\n",
    "    num_users, num_products, num_features, ratings, mask, regularization_amount = args\n",
    "\n",
    "    # Unroll P and Q\n",
    "    P = X[0:(num_users * num_features)].reshape(num_users, num_features)\n",
    "    Q = X[(num_users * num_features):].reshape(num_products, num_features)\n",
    "    Q = Q.T\n",
    "\n",
    "    # Calculate the current gradients for both P and Q\n",
    "    P_grad = np.dot((mask * (np.dot(P, Q) - ratings)), Q.T) + (regularization_amount * P)\n",
    "    Q_grad = np.dot((mask * (np.dot(P, Q) - ratings)).T, P) + (regularization_amount * Q.T)\n",
    "\n",
    "    # Return the gradients as one rolled-up array as expected by fmin_cg\n",
    "    return np.append(P_grad.ravel(), Q_grad.ravel())\n",
    "\n",
    "\n",
    "def low_rank_matrix_factorization(ratings, mask=None, num_features=15, regularization_amount=0.01):\n",
    "    \"\"\"\n",
    "    Factor a ratings array into two latent feature arrays (user features and product features)\n",
    "\n",
    "    :param ratings: Matrix with user ratings to factor\n",
    "    :param mask: A binary mask of which ratings are present in the ratings array to factor\n",
    "    :param num_features: Number of latent features to generate for users and products\n",
    "    :param regularization_amount: How much regularization to apply\n",
    "    :return: (P, Q) - the factored latent feature arrays\n",
    "    \"\"\"\n",
    "    num_users, num_products = ratings.shape\n",
    "\n",
    "    # If no mask is provided, consider all 'NaN' elements as missing and create a mask.\n",
    "    if mask is None:\n",
    "        mask = np.invert(np.isnan(ratings))\n",
    "\n",
    "    # Replace NaN values with zero\n",
    "    ratings = np.nan_to_num(ratings)\n",
    "\n",
    "    # Create P and Q and fill with random numbers to start\n",
    "    np.random.seed(0)\n",
    "    P = np.random.randn(num_users, num_features)\n",
    "    Q = np.random.randn(num_products, num_features)\n",
    "\n",
    "    # Roll up P and Q into a contiguous array as fmin_cg expects\n",
    "    initial = np.append(P.ravel(), Q.ravel())\n",
    "\n",
    "    # Create an args array as fmin_cg expects\n",
    "    args = (num_users, num_products, num_features, ratings, mask, regularization_amount)\n",
    "\n",
    "    # Call fmin_cg to minimize the cost function and this find the best values for P and Q\n",
    "    X = fmin_cg(cost, initial, fprime=gradient, args=args, maxiter=3000)\n",
    "\n",
    "    # Unroll the new P and new Q arrays out of the contiguous array returned by fmin_cg\n",
    "    nP = X[0:(num_users * num_features)].reshape(num_users, num_features)\n",
    "    nQ = X[(num_users * num_features):].reshape(num_products, num_features)\n",
    "\n",
    "    return nP, nQ.T\n",
    "\n",
    "\n",
    "def RMSE(real, predicted):\n",
    "    \"\"\"\n",
    "    Calculate the root mean squared error between a matrix of real ratings and predicted ratings\n",
    "    :param real: A matrix containing the real ratings (with 'NaN' for any missing elements)\n",
    "    :param predicted: A matrix of predictions\n",
    "    :return: The RMSE as a float\n",
    "    \"\"\"\n",
    "    return np.sqrt(np.nanmean(np.square(real - predicted)))"
   ]
  },
  {
   "cell_type": "markdown",
   "metadata": {},
   "source": [
    "# Find Similar Products"
   ]
  },
  {
   "cell_type": "code",
   "execution_count": 4,
   "metadata": {},
   "outputs": [
    {
     "name": "stdout",
     "output_type": "stream",
     "text": [
      "Warning: Desired error not necessarily achieved due to precision loss.\n",
      "         Current function value: 98.010501\n",
      "         Iterations: 6\n",
      "         Function evaluations: 52\n",
      "         Gradient evaluations: 40\n",
      "We are finding movies similar to this movie:\n",
      "Movie title: The Big City Judge 2\n",
      "Genre: legal drama\n",
      "The attributes for this movie are:\n",
      "[ 0.88432515 -0.89748365 -1.33937495  0.20892199  0.1807583  -1.40433794\n",
      " -0.34252951  0.29970638  0.19030158 -0.443964   -0.96892061 -0.72377655\n",
      " -0.73211201 -1.20936379  0.99105328]\n",
      "The five most similar movies are:\n",
      "                               title  difference_score\n",
      "movie_id                                              \n",
      "5               The Big City Judge 2          0.000000\n",
      "13                     The Sheriff 3          7.476749\n",
      "15        We Will Fight Those Aliens          7.962674\n",
      "3                      The Sheriff 2          8.038197\n",
      "24              The Big City Judge 3          8.562607\n"
     ]
    },
    {
     "name": "stderr",
     "output_type": "stream",
     "text": [
      "/Library/Frameworks/Python.framework/Versions/3.7/lib/python3.7/site-packages/ipykernel_launcher.py:11: FutureWarning: Method .as_matrix will be removed in a future version. Use .values instead.\n",
      "  # This is added back by InteractiveShellApp.init_path()\n"
     ]
    }
   ],
   "source": [
    "# Load user ratings\n",
    "df = pd.read_csv('movie_ratings_data_set.csv')\n",
    "\n",
    "# Load movie titles\n",
    "movies_df = pd.read_csv('movies.csv', index_col='movie_id')\n",
    "\n",
    "# Convert the running list of user ratings into a matrix\n",
    "ratings_df = pd.pivot_table(df, index='user_id', columns='movie_id', aggfunc=np.max)\n",
    "\n",
    "# Apply matrix factorization to find the latent features\n",
    "U, M = low_rank_matrix_factorization(ratings_df.as_matrix(),\n",
    "                                     num_features=15, regularization_amount=1.0)\n",
    "\n",
    "# Swap the rows and columns of product_features just so it's easier to work with\n",
    "M = np.transpose(M)\n",
    "\n",
    "# Choose a movie to find similar movies to. Let's find movies similar to movie #5:\n",
    "movie_id = 5\n",
    "\n",
    "# Get movie #1's name and genre\n",
    "movie_information = movies_df.loc[movie_id]\n",
    "\n",
    "print(\"We are finding movies similar to this movie:\")\n",
    "print(\"Movie title: {}\".format(movie_information.title))\n",
    "print(\"Genre: {}\".format(movie_information.genre))\n",
    "\n",
    "# Get the features for movie #1 we found via matrix factorization\n",
    "current_movie_features = M[movie_id - 1]\n",
    "\n",
    "print(\"The attributes for this movie are:\")\n",
    "print(current_movie_features)\n",
    "\n",
    "# The main logic for finding similar movies:\n",
    "\n",
    "# 1. Subtract the current movie's features from every other movie's features\n",
    "difference = M - current_movie_features\n",
    "\n",
    "# 2. Take the absolute value of that difference (so all numbers are positive)\n",
    "absolute_difference = np.abs(difference)\n",
    "\n",
    "# 3. Each movie has 15 features. Sum those 15 features to get a total 'difference score' for each movie\n",
    "total_difference = np.sum(absolute_difference, axis=1)\n",
    "\n",
    "# 4. Create a new column in the movie list with the difference score for each movie\n",
    "movies_df['difference_score'] = total_difference\n",
    "\n",
    "# 5. Sort the movie list by difference score, from least different to most different\n",
    "sorted_movie_list = movies_df.sort_values('difference_score')\n",
    "\n",
    "# 6. Print the result, showing the 5 most similar movies to movie_id #1\n",
    "print(\"The five most similar movies are:\")\n",
    "print(sorted_movie_list[['title', 'difference_score']][0:5])"
   ]
  },
  {
   "cell_type": "markdown",
   "metadata": {},
   "source": [
    "# Factor Review Matrix"
   ]
  },
  {
   "cell_type": "code",
   "execution_count": 5,
   "metadata": {},
   "outputs": [
    {
     "name": "stdout",
     "output_type": "stream",
     "text": [
      "Warning: Desired error not necessarily achieved due to precision loss.\n",
      "         Current function value: 0.443573\n",
      "         Iterations: 26\n",
      "         Function evaluations: 102\n",
      "         Gradient evaluations: 90\n"
     ]
    },
    {
     "name": "stderr",
     "output_type": "stream",
     "text": [
      "/Library/Frameworks/Python.framework/Versions/3.7/lib/python3.7/site-packages/ipykernel_launcher.py:2: FutureWarning: Method .as_matrix will be removed in a future version. Use .values instead.\n",
      "  \n"
     ]
    }
   ],
   "source": [
    "# Apply matrix factorization to find the latent features\n",
    "U, M = low_rank_matrix_factorization(ratings_df.as_matrix(),\n",
    "                                     num_features=15, regularization_amount=0.1)\n",
    "\n",
    "# Find all predicted ratings by multiplying the U by M\n",
    "predicted_ratings = np.matmul(U, M)\n",
    "\n",
    "# Save all the ratings to a csv file\n",
    "predicted_ratings_df = pd.DataFrame(index=ratings_df.index,\n",
    "                                    columns=ratings_df.columns,\n",
    "                                    data=predicted_ratings)\n",
    "predicted_ratings_df.to_csv(\"predicted_ratings.csv\")"
   ]
  },
  {
   "cell_type": "markdown",
   "metadata": {},
   "source": [
    "# Making Recommendations"
   ]
  },
  {
   "cell_type": "code",
   "execution_count": 6,
   "metadata": {},
   "outputs": [
    {
     "name": "stderr",
     "output_type": "stream",
     "text": [
      "/Library/Frameworks/Python.framework/Versions/3.7/lib/python3.7/site-packages/ipykernel_launcher.py:13: FutureWarning: Method .as_matrix will be removed in a future version. Use .values instead.\n",
      "  del sys.path[0]\n"
     ]
    },
    {
     "name": "stdout",
     "output_type": "stream",
     "text": [
      "Warning: Desired error not necessarily achieved due to precision loss.\n",
      "         Current function value: 0.443573\n",
      "         Iterations: 26\n",
      "         Function evaluations: 102\n",
      "         Gradient evaluations: 90\n",
      "Enter a user_id to get recommendations (Between 1 and 100):\n",
      "1\n",
      "Movies previously reviewed by user_id 1:\n",
      "               title                  genre  value\n",
      "0      The Sheriff 4   crime drama, western      4\n",
      "1  Mafia Underground  crime drama, thriller      4\n",
      "2        Biker Gangs    crime drama, action      4\n",
      "3      The Sheriff 1   crime drama, western      4\n",
      "4     The Spy Family              spy drama      4\n",
      "5      The Sheriff 3   crime drama, western      5\n",
      "Press enter to continue.\n",
      "Movies we will recommend:\n",
      "                               title                     genre    rating\n",
      "movie_id                                                                \n",
      "24              The Big City Judge 3               legal drama  8.161112\n",
      "5               The Big City Judge 2               legal drama  5.637546\n",
      "15        We Will Fight Those Aliens            sci-fi, action  5.274087\n",
      "2               The Big City Judge 1               legal drama  4.528773\n",
      "21                   Political Gaffs  comedy, political satire  4.056585\n"
     ]
    }
   ],
   "source": [
    "# Load user ratings\n",
    "raw_dataset_df = pd.read_csv('movie_ratings_data_set.csv')\n",
    "\n",
    "# Load movie titles\n",
    "movies_df = pd.read_csv('movies.csv', index_col='movie_id')\n",
    "\n",
    "# Convert the running list of user ratings into a matrix\n",
    "ratings_df = pd.pivot_table(raw_dataset_df, index='user_id',\n",
    "                            columns='movie_id',\n",
    "                            aggfunc=np.max)\n",
    "\n",
    "# Apply matrix factorization to find the latent features\n",
    "U, M = low_rank_matrix_factorization(ratings_df.as_matrix(),\n",
    "                                                                    num_features=15,\n",
    "                                                                    regularization_amount=0.1)\n",
    "\n",
    "# Find all predicted ratings by multiplying U and M matrices\n",
    "predicted_ratings = np.matmul(U, M)\n",
    "\n",
    "print(\"Enter a user_id to get recommendations (Between 1 and 100):\")\n",
    "user_id_to_search = int(input())\n",
    "\n",
    "print(\"Movies previously reviewed by user_id {}:\".format(user_id_to_search))\n",
    "\n",
    "reviewed_movies_df = raw_dataset_df[raw_dataset_df['user_id'] == user_id_to_search]\n",
    "reviewed_movies_df = reviewed_movies_df.join(movies_df, on='movie_id')\n",
    "\n",
    "print(reviewed_movies_df[['title', 'genre', 'value']])\n",
    "\n",
    "input(\"Press enter to continue.\")\n",
    "\n",
    "print(\"Movies we will recommend:\")\n",
    "\n",
    "user_ratings = predicted_ratings[user_id_to_search - 1]\n",
    "movies_df['rating'] = user_ratings\n",
    "\n",
    "already_reviewed = reviewed_movies_df['movie_id']\n",
    "recommended_df = movies_df[movies_df.index.isin(already_reviewed) == False]\n",
    "recommended_df = recommended_df.sort_values(by=['rating'], ascending=False)\n",
    "\n",
    "print(recommended_df[['title', 'genre', 'rating']].head(5))"
   ]
  },
  {
   "cell_type": "markdown",
   "metadata": {},
   "source": [
    "# Measuring Accuracy"
   ]
  },
  {
   "cell_type": "code",
   "execution_count": 7,
   "metadata": {},
   "outputs": [
    {
     "name": "stdout",
     "output_type": "stream",
     "text": [
      "Warning: Desired error not necessarily achieved due to precision loss.\n",
      "         Current function value: 28.277160\n",
      "         Iterations: 11\n",
      "         Function evaluations: 64\n",
      "         Gradient evaluations: 53\n",
      "Training RMSE: 0.3450532248275474\n",
      "Testing RMSE: 2.96547591459201\n"
     ]
    },
    {
     "name": "stderr",
     "output_type": "stream",
     "text": [
      "/Library/Frameworks/Python.framework/Versions/3.7/lib/python3.7/site-packages/ipykernel_launcher.py:12: FutureWarning: Method .as_matrix will be removed in a future version. Use .values instead.\n",
      "  if sys.path[0] == '':\n",
      "/Library/Frameworks/Python.framework/Versions/3.7/lib/python3.7/site-packages/ipykernel_launcher.py:19: FutureWarning: Method .as_matrix will be removed in a future version. Use .values instead.\n",
      "/Library/Frameworks/Python.framework/Versions/3.7/lib/python3.7/site-packages/ipykernel_launcher.py:20: FutureWarning: Method .as_matrix will be removed in a future version. Use .values instead.\n"
     ]
    }
   ],
   "source": [
    "# Load user ratings\n",
    "raw_training_dataset_df = pd.read_csv('movie_ratings_data_set_training.csv')\n",
    "raw_testing_dataset_df = pd.read_csv('movie_ratings_data_set_testing.csv')\n",
    "\n",
    "# Convert the running list of user ratings into a matrix\n",
    "ratings_training_df = pd.pivot_table(raw_training_dataset_df, index='user_id', \n",
    "                                     columns='movie_id', aggfunc=np.max)\n",
    "ratings_testing_df = pd.pivot_table(raw_testing_dataset_df, index='user_id', \n",
    "                                    columns='movie_id', aggfunc=np.max)\n",
    "\n",
    "# Apply matrix factorization to find the latent features\n",
    "U, M = low_rank_matrix_factorization(ratings_training_df.as_matrix(),\n",
    "                                    num_features=11, regularization_amount=1.1)\n",
    "\n",
    "# Find all predicted ratings by multiplying U and M\n",
    "predicted_ratings = np.matmul(U, M)\n",
    "\n",
    "# Measure RMSE\n",
    "rmse_training = RMSE(ratings_training_df.as_matrix(), predicted_ratings)\n",
    "rmse_testing = RMSE(ratings_testing_df.as_matrix(), predicted_ratings)\n",
    "\n",
    "print(\"Training RMSE: {}\".format(rmse_training))\n",
    "print(\"Testing RMSE: {}\".format(rmse_testing))"
   ]
  },
  {
   "cell_type": "markdown",
   "metadata": {},
   "source": [
    "# Training Recommender with Cold Start "
   ]
  },
  {
   "cell_type": "code",
   "execution_count": 8,
   "metadata": {},
   "outputs": [
    {
     "name": "stdout",
     "output_type": "stream",
     "text": [
      "Warning: Desired error not necessarily achieved due to precision loss.\n",
      "         Current function value: 17.952392\n",
      "         Iterations: 14\n",
      "         Function evaluations: 79\n",
      "         Gradient evaluations: 69\n"
     ]
    },
    {
     "name": "stderr",
     "output_type": "stream",
     "text": [
      "/Library/Frameworks/Python.framework/Versions/3.7/lib/python3.7/site-packages/ipykernel_launcher.py:9: FutureWarning: Method .as_matrix will be removed in a future version. Use .values instead.\n",
      "  if __name__ == '__main__':\n"
     ]
    }
   ],
   "source": [
    "import pickle\n",
    "# Load user ratings\n",
    "raw_dataset_df = pd.read_csv('movie_ratings_data_set.csv')\n",
    "\n",
    "# Convert the running list of user ratings into a matrix\n",
    "ratings_df = pd.pivot_table(raw_dataset_df, index='user_id', columns='movie_id', aggfunc=np.max)\n",
    "\n",
    "# Normalize the ratings (center them around their mean)\n",
    "normalized_ratings, means = normalize_ratings(ratings_df.as_matrix())\n",
    "\n",
    "# Apply matrix factorization to find the latent features\n",
    "U, M = low_rank_matrix_factorization(normalized_ratings, num_features=11, regularization_amount=1.1)\n",
    "\n",
    "# Find all predicted ratings by multiplying U and M\n",
    "predicted_ratings = np.matmul(U, M)\n",
    "\n",
    "# Add back in the mean ratings for each product to de-normalize the predicted results\n",
    "predicted_ratings = predicted_ratings + means\n",
    "\n",
    "# Save features and predicted ratings to files for later use\n",
    "pickle.dump(U, open(\"user_features.dat\", \"wb\"))\n",
    "pickle.dump(M, open(\"product_features.dat\", \"wb\"))\n",
    "pickle.dump(predicted_ratings, open(\"predicted_ratings.dat\", \"wb\" ))\n",
    "pickle.dump(means, open(\"means.dat\", \"wb\" ))"
   ]
  },
  {
   "cell_type": "markdown",
   "metadata": {},
   "source": [
    "# Making Recommendation from Cold Start"
   ]
  },
  {
   "cell_type": "code",
   "execution_count": 9,
   "metadata": {},
   "outputs": [
    {
     "name": "stdout",
     "output_type": "stream",
     "text": [
      "Movies we will recommend:\n",
      "                            title                   genre    rating\n",
      "movie_id                                                           \n",
      "6               Attack on Earth 1          sci-fi, action  4.900000\n",
      "10        Surrounded by Zombies 1  horror, zombie fiction  4.882353\n",
      "3                   The Sheriff 2    crime drama, western  4.818182\n",
      "12                     Horrorfest                  horror  4.800000\n",
      "5            The Big City Judge 2             legal drama  4.785714\n"
     ]
    }
   ],
   "source": [
    "# Load prediction rules from data files\n",
    "means = pickle.load(open(\"means.dat\", \"rb\"))\n",
    "\n",
    "# Load movie titles\n",
    "movies_df = pd.read_csv('movies.csv', index_col='movie_id')\n",
    "\n",
    "# Just use the average movie ratings directly as the user's predicted ratings\n",
    "user_ratings = means\n",
    "\n",
    "print(\"Movies we will recommend:\")\n",
    "\n",
    "movies_df['rating'] = user_ratings\n",
    "movies_df = movies_df.sort_values(by=['rating'], ascending=False)\n",
    "\n",
    "print(movies_df[['title', 'genre', 'rating']].head(5))"
   ]
  },
  {
   "cell_type": "code",
   "execution_count": null,
   "metadata": {},
   "outputs": [],
   "source": []
  },
  {
   "cell_type": "markdown",
   "metadata": {},
   "source": [
    "# Training Recommender"
   ]
  },
  {
   "cell_type": "code",
   "execution_count": 10,
   "metadata": {},
   "outputs": [
    {
     "name": "stderr",
     "output_type": "stream",
     "text": [
      "/Library/Frameworks/Python.framework/Versions/3.7/lib/python3.7/site-packages/ipykernel_launcher.py:8: FutureWarning: Method .as_matrix will be removed in a future version. Use .values instead.\n",
      "  \n"
     ]
    },
    {
     "name": "stdout",
     "output_type": "stream",
     "text": [
      "Warning: Desired error not necessarily achieved due to precision loss.\n",
      "         Current function value: 0.443573\n",
      "         Iterations: 26\n",
      "         Function evaluations: 102\n",
      "         Gradient evaluations: 90\n"
     ]
    }
   ],
   "source": [
    "# Load user ratings\n",
    "raw_dataset_df = pd.read_csv('movie_ratings_data_set.csv')\n",
    "\n",
    "# Convert the running list of user ratings into a matrix\n",
    "ratings_df = pd.pivot_table(raw_dataset_df, index='user_id', columns='movie_id', aggfunc=np.max)\n",
    "\n",
    "# Apply matrix factorization to find the latent features\n",
    "U, M = low_rank_matrix_factorization(ratings_df.as_matrix(), num_features=15, regularization_amount=0.1)\n",
    "\n",
    "# Find all predicted ratings by multiplying U and M\n",
    "predicted_ratings = np.matmul(U, M)\n",
    "\n",
    "# Save features and predicted ratings to files for later use\n",
    "pickle.dump(U, open(\"user_features.dat\", \"wb\"))\n",
    "pickle.dump(M, open(\"product_features.dat\", \"wb\"))\n",
    "pickle.dump(predicted_ratings, open(\"predicted_ratings.dat\", \"wb\" ))"
   ]
  },
  {
   "cell_type": "markdown",
   "metadata": {},
   "source": [
    "# Making Recommendation"
   ]
  },
  {
   "cell_type": "code",
   "execution_count": 11,
   "metadata": {},
   "outputs": [
    {
     "name": "stdout",
     "output_type": "stream",
     "text": [
      "Enter a user_id to get recommendations (Between 1 and 100):\n",
      "1\n",
      "Movies we will recommend:\n",
      "                               title                 genre    rating\n",
      "movie_id                                                            \n",
      "24              The Big City Judge 3           legal drama  8.161112\n",
      "5               The Big City Judge 2           legal drama  5.637546\n",
      "15        We Will Fight Those Aliens        sci-fi, action  5.274087\n",
      "13                     The Sheriff 3  crime drama, western  4.968868\n",
      "2               The Big City Judge 1           legal drama  4.528773\n"
     ]
    }
   ],
   "source": [
    "import pickle\n",
    "import pandas as pd\n",
    "\n",
    "# Load prediction rules from data files\n",
    "U = pickle.load(open(\"user_features.dat\", \"rb\"))\n",
    "M = pickle.load(open(\"product_features.dat\", \"rb\"))\n",
    "predicted_ratings = pickle.load(open(\"predicted_ratings.dat\", \"rb\"))\n",
    "\n",
    "# Load movie titles\n",
    "movies_df = pd.read_csv('movies.csv', index_col='movie_id')\n",
    "\n",
    "print(\"Enter a user_id to get recommendations (Between 1 and 100):\")\n",
    "user_id_to_search = int(input())\n",
    "\n",
    "print(\"Movies we will recommend:\")\n",
    "\n",
    "user_ratings = predicted_ratings[user_id_to_search - 1]\n",
    "movies_df['rating'] = user_ratings\n",
    "movies_df = movies_df.sort_values(by=['rating'], ascending=False)\n",
    "\n",
    "print(movies_df[['title', 'genre', 'rating']].head(5))"
   ]
  },
  {
   "cell_type": "markdown",
   "metadata": {},
   "source": [
    "# Finding product similarity"
   ]
  },
  {
   "cell_type": "code",
   "execution_count": 12,
   "metadata": {},
   "outputs": [
    {
     "name": "stdout",
     "output_type": "stream",
     "text": [
      "We are finding movies similar to this movie:\n",
      "Movie title: The Big City Judge 2\n",
      "Genre: legal drama\n",
      "The attributes for this movie are:\n",
      "[ 0.87011509 -1.0351991  -1.30446262  0.10657639  0.07166534 -1.42680369\n",
      " -0.28336831  0.40711148  0.08468894 -0.44296559 -1.13236308 -0.67210737\n",
      " -0.80658773 -1.17878696  1.00120923]\n",
      "The five most similar movies are:\n",
      "                               title  difference_score\n",
      "movie_id                                              \n",
      "5               The Big City Judge 2          0.000000\n",
      "13                     The Sheriff 3          7.309342\n",
      "15        We Will Fight Those Aliens          7.653577\n",
      "24              The Big City Judge 3          8.076881\n",
      "2               The Big City Judge 1          8.652308\n"
     ]
    }
   ],
   "source": [
    "import pickle\n",
    "import pandas as pd\n",
    "import numpy as np\n",
    "\n",
    "# Load prediction rules from data files\n",
    "M = pickle.load(open(\"product_features.dat\", \"rb\"))\n",
    "\n",
    "# Swap the rows and columns of product_features just so it's easier to work with\n",
    "M = np.transpose(M)\n",
    "\n",
    "# Load movie titles\n",
    "movies_df = pd.read_csv('movies.csv', index_col='movie_id')\n",
    "\n",
    "# Choose a movie to find similar movies to. Let's find movies similar to movie #5:\n",
    "movie_id = 5\n",
    "\n",
    "# Get movie #1's name and genre\n",
    "movie_information = movies_df.loc[movie_id]\n",
    "\n",
    "print(\"We are finding movies similar to this movie:\")\n",
    "print(\"Movie title: {}\".format(movie_information.title))\n",
    "print(\"Genre: {}\".format(movie_information.genre))\n",
    "\n",
    "# Get the features for movie #1 we found via matrix factorization\n",
    "current_movie_features = M[movie_id - 1]\n",
    "\n",
    "print(\"The attributes for this movie are:\")\n",
    "print(current_movie_features)\n",
    "\n",
    "# The main logic for finding similar movies:\n",
    "\n",
    "# 1. Subtract the current movie's features from every other movie's features\n",
    "difference = M - current_movie_features\n",
    "\n",
    "# 2. Take the absolute value of that difference (so all numbers are positive)\n",
    "absolute_difference = np.abs(difference)\n",
    "\n",
    "# 3. Each movie has several features. Sum those features to get a total 'difference score' for each movie\n",
    "total_difference = np.sum(absolute_difference, axis=1)\n",
    "\n",
    "# 4. Create a new column in the movie list with the difference score for each movie\n",
    "movies_df['difference_score'] = total_difference\n",
    "\n",
    "# 5. Sort the movie list by difference score, from least different to most different\n",
    "sorted_movie_list = movies_df.sort_values('difference_score')\n",
    "\n",
    "# 6. Print the result, showing the 5 most similar movies to movie_id #1\n",
    "print(\"The five most similar movies are:\")\n",
    "print(sorted_movie_list[['title', 'difference_score']][0:5])\n"
   ]
  },
  {
   "cell_type": "markdown",
   "metadata": {},
   "source": [
    "# Extra Notes"
   ]
  },
  {
   "cell_type": "markdown",
   "metadata": {},
   "source": [
    "***\n",
    "***.as_matrix():** make sure that the data is passed as a numpy matrix"
   ]
  },
  {
   "cell_type": "markdown",
   "metadata": {},
   "source": [
    "***\n",
    "Save features and predicted ratings to files for later use\n",
    "<br><br>This helps to save large matrix U faster.\n",
    "<br><br><font color=green>pickle.dump(U, open(\"user_features.dat\", \"wb\"))"
   ]
  },
  {
   "cell_type": "markdown",
   "metadata": {},
   "source": [
    "***\n",
    "\n",
    "#### <font color=green>import pickle \n",
    "import pandas as pd </font>\n",
    "<br>\n",
    "Load prediction rules from data files\n",
    "<br>\n",
    "<font color=green>means = pickle.load(open(\"means.dat\", \"rb\"))</font>\n",
    "<br>\n",
    "The pickle feature is useful in running the recommendation on pre-saved model data ."
   ]
  },
  {
   "cell_type": "markdown",
   "metadata": {},
   "source": [
    "***\n",
    "**MovieLens DataSet**"
   ]
  },
  {
   "cell_type": "markdown",
   "metadata": {},
   "source": [
    "### Main Idea:\n",
    "First, convert the data into meaningful table using pd.read_csv and pd.pivot_table. \n",
    "<br> Then instead of finding features of each movie by yourself, do low_rank_matrix_factorization to automatically come up with features of movies. In other words, data = U * M. \n",
    "<br> Factor a ratings array into two latent feature arrays (user features and product features) as in the following:"
   ]
  },
  {
   "cell_type": "code",
   "execution_count": 13,
   "metadata": {},
   "outputs": [],
   "source": [
    "def low_rank_matrix_factorization(ratings, mask=None, num_features=15, regularization_amount=0.01):\n",
    "    \"\"\"\n",
    "    Factor a ratings array into two latent feature arrays (user features and product features)\n",
    "\n",
    "    :param ratings: Matrix with user ratings to factor\n",
    "    :param mask: A binary mask of which ratings are present in the ratings array to factor\n",
    "    :param num_features: Number of latent features to generate for users and products\n",
    "    :param regularization_amount: How much regularization to apply\n",
    "    :return: (P, Q) - the factored latent feature arrays\n",
    "    \"\"\""
   ]
  },
  {
   "cell_type": "markdown",
   "metadata": {},
   "source": [
    "This can be done by calculating U and M repeatedly using"
   ]
  },
  {
   "cell_type": "code",
   "execution_count": 14,
   "metadata": {},
   "outputs": [],
   "source": [
    "from scipy.optimize import fmin_cg"
   ]
  },
  {
   "cell_type": "markdown",
   "metadata": {},
   "source": [
    "which minimizes the error using gradient calculation. "
   ]
  },
  {
   "cell_type": "markdown",
   "metadata": {},
   "source": [
    "Then:\n",
    "<br>\n",
    "predicted_ratings = np.matmul(U, M)"
   ]
  },
  {
   "cell_type": "markdown",
   "metadata": {},
   "source": [
    "Then, for a certain user_ID, one can sort the predicted_ratings and suggest the top five rating for the user. "
   ]
  },
  {
   "cell_type": "markdown",
   "metadata": {},
   "source": [
    "***\n",
    "If a user doesn't have reviews so far, we can either:\n",
    "<br>\n",
    "Not suggest anything, or suggest the top rated movies, or suggest related movies."
   ]
  },
  {
   "cell_type": "markdown",
   "metadata": {},
   "source": [
    "Related movies are the ones with the most similar M matrix. Also, don't forget regularization."
   ]
  },
  {
   "cell_type": "code",
   "execution_count": null,
   "metadata": {},
   "outputs": [],
   "source": []
  }
 ],
 "metadata": {
  "kernelspec": {
   "display_name": "Python 3",
   "language": "python",
   "name": "python3"
  },
  "language_info": {
   "codemirror_mode": {
    "name": "ipython",
    "version": 3
   },
   "file_extension": ".py",
   "mimetype": "text/x-python",
   "name": "python",
   "nbconvert_exporter": "python",
   "pygments_lexer": "ipython3",
   "version": "3.7.3"
  }
 },
 "nbformat": 4,
 "nbformat_minor": 2
}
